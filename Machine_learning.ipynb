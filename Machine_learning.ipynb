{
  "nbformat": 4,
  "nbformat_minor": 0,
  "metadata": {
    "colab": {
      "provenance": [],
      "collapsed_sections": [],
      "toc_visible": true,
      "mount_file_id": "13MvmbdQ1VvQPSwADG21W7Xo4qtiBHZQX",
      "authorship_tag": "ABX9TyNV67TSsnH65ngc7r+Wu1Y9",
      "include_colab_link": true
    },
    "kernelspec": {
      "name": "python3",
      "display_name": "Python 3"
    },
    "language_info": {
      "name": "python"
    }
  },
  "cells": [
    {
      "cell_type": "markdown",
      "metadata": {
        "id": "view-in-github",
        "colab_type": "text"
      },
      "source": [
        "<a href=\"https://colab.research.google.com/github/IsmaelSaid/machine-learning-tools/blob/master/Machine_learning.ipynb\" target=\"_parent\"><img src=\"https://colab.research.google.com/assets/colab-badge.svg\" alt=\"Open In Colab\"/></a>"
      ]
    },
    {
      "cell_type": "markdown",
      "source": [
        ">[Regression](#scrollTo=tJ3pelMUjYSN)\n",
        "\n",
        ">>[Régression linéaire](#scrollTo=KaTcAw-WOl0U)\n",
        "\n",
        ">>>[Problem :](#scrollTo=5Np8b2B5yeb2)\n",
        "\n",
        ">>>[synthetic data :](#scrollTo=jVRwYg8S85Ky)\n",
        "\n",
        ">>>[Hypothesis function for linear regression:](#scrollTo=AT0Rqv7u7zcK)\n",
        "\n",
        ">>>[Cost function (MSE) :](#scrollTo=PHhgLTLw9ifh)\n",
        "\n",
        ">>>[Training a linear regression model :](#scrollTo=Q6MARKrSTGFb)\n",
        "\n",
        ">>>[Derivative of the mean squared error :](#scrollTo=Bq1XE_1BGhmS)\n",
        "\n",
        ">[Classification](#scrollTo=DP-BCmXqjzjF)\n",
        "\n",
        ">>[Données](#scrollTo=qND4PZtCxiJ6)\n",
        "\n",
        ">>[Régression logistique](#scrollTo=ujzbff8WlN20)\n",
        "\n",
        ">>>[Hypothesis function :](#scrollTo=taMfKIaus5N3)\n",
        "\n",
        ">>>[Cost function ( Binary cross entropy loss / Log loss) :](#scrollTo=wWZYQyz5suf1)\n",
        "\n",
        ">>>[Derivative of the binary cross entropy loss](#scrollTo=dMyur2_cBRV_)\n",
        "\n",
        ">>>>[$\\frac{∂J}{∂g}$](#scrollTo=MnxhbJEnB_8Y)\n",
        "\n",
        ">>>>[$\\frac{∂g}{∂z}$](#scrollTo=0WVWL5h_SHJF)\n",
        "\n",
        ">>>>[$\\frac{∂z}{∂\\theta _i}$](#scrollTo=v5_Ta7rqUW_s)\n",
        "\n",
        ">>>[Sigmoid properties :](#scrollTo=AMqlxSEt7adD)\n",
        "\n",
        ">>>[Learning process:](#scrollTo=uNZpo6oduC6_)\n",
        "\n",
        ">>[Perceptron](#scrollTo=dIM99bhTlkUE)\n",
        "\n"
      ],
      "metadata": {
        "colab_type": "toc",
        "id": "_wCiL2pOiaDY"
      }
    },
    {
      "cell_type": "code",
      "source": [
        "import numpy as np \n",
        "import pandas as pd \n",
        "import matplotlib.pyplot as plt \n",
        "# from sklearn.datasets import make_boobs\n",
        "from sklearn.datasets import make_blobs"
      ],
      "metadata": {
        "id": "uw2ECvbvw4MS"
      },
      "execution_count": null,
      "outputs": []
    },
    {
      "cell_type": "markdown",
      "source": [
        "# **Regression** \n"
      ],
      "metadata": {
        "id": "tJ3pelMUjYSN"
      }
    },
    {
      "cell_type": "markdown",
      "source": [
        "## **Régression linéaire** "
      ],
      "metadata": {
        "id": "KaTcAw-WOl0U"
      }
    },
    {
      "cell_type": "markdown",
      "source": [
        "### **Problem :**\n",
        "$X = \\begin{bmatrix}\n",
        "X_{1}^{\\top}\\\\\n",
        "X_{2}^{\\top}\\\\  \n",
        "...\\\\  \n",
        "X_{n}^{\\top}\\\\\n",
        "\\end{bmatrix}\n",
        "= \\begin{bmatrix}\n",
        "1 &  x^{1}_{1} & x^{1}_{2}   & ... & x^{1}_{p} \\\\ \n",
        "1 &  x^{2}_{1} & x^{2}_{2}  & ... & x^{2}_{p} \\\\ \n",
        "... &  ...  & ... & ⋯ & ... \\\\  \n",
        "1 & x^{n}_{1} & x^{n}_{2} & ... & x^{n}_{p}   \n",
        "\\end{bmatrix}\n",
        "$\n",
        "$Y = \\begin{bmatrix}\n",
        "y_{1}&\\\\\n",
        "y_{2}&\\\\\n",
        "... \\\\\n",
        "y_{p}& \n",
        "\\end{bmatrix}$\n",
        "$Θ = \\begin{bmatrix}\n",
        "\\theta_{0}&\\\\\n",
        "\\theta_{1}&\\\\\n",
        "\\theta_{2}&\\\\\n",
        "... \\\\\n",
        "\\theta_{p}& \n",
        "\\end{bmatrix}$\n",
        "\n",
        "\n",
        "\n",
        "*   With $p$ the number of independant variable.  \n",
        "*   With $n$ the number of training exemple.\n",
        "*   $X∈ \\mathbf{R}^{n × p+1} $ \n",
        "*   $Y∈ \\mathbf{R}^n $  \n",
        "*   $\\theta ∈ \\mathbf{R}^{p+1}$ \n",
        "*   $(x^{(i)},y^{(i)})$ is the $i^{th}$ training exemple.  \n",
        "* $x_{(0,j)} = 1$ for all training exemple\n",
        "* $x_{(i,j)}$ is the value of the $j^{th}$ independant variable of the $i^{th}$ training exemple   \n",
        "*   $𝕏=[(x^{(1)},y^{(1)}),(x^{(2)},y^{(2)}),...,(x^{(n)},y^{(n)})]$  \n"
      ],
      "metadata": {
        "id": "5Np8b2B5yeb2"
      }
    },
    {
      "cell_type": "markdown",
      "source": [
        "### **synthetic data :**"
      ],
      "metadata": {
        "id": "jVRwYg8S85Ky"
      }
    },
    {
      "cell_type": "code",
      "source": [
        "from sklearn.datasets import make_regression\n",
        "import numpy as np\n",
        "import matplotlib.pyplot as plt\n",
        "x,y = make_regression(n_samples = 7, n_features = 1, noise = 10)\n",
        "m = len(x)\n",
        "y = y.reshape(m,1)\n",
        "x = np.hstack((x,np.ones(m).reshape(m,1)))"
      ],
      "metadata": {
        "id": "SCv4vRxMweA1"
      },
      "execution_count": null,
      "outputs": []
    },
    {
      "cell_type": "code",
      "source": [
        "y"
      ],
      "metadata": {
        "colab": {
          "base_uri": "https://localhost:8080/"
        },
        "id": "hpppLrRovB01",
        "outputId": "464e2663-16ea-4937-b917-6388f21428b9"
      },
      "execution_count": null,
      "outputs": [
        {
          "output_type": "execute_result",
          "data": {
            "text/plain": [
              "array([[  6.4714294 ],\n",
              "       [-33.91412502],\n",
              "       [-33.80971036],\n",
              "       [-22.13963343],\n",
              "       [ 32.9004413 ],\n",
              "       [  3.90074404],\n",
              "       [ 19.93809301]])"
            ]
          },
          "metadata": {},
          "execution_count": 7
        }
      ]
    },
    {
      "cell_type": "code",
      "source": [
        "x"
      ],
      "metadata": {
        "colab": {
          "base_uri": "https://localhost:8080/"
        },
        "id": "GOlmGWiNm8W_",
        "outputId": "ed5a0c0a-f740-43b8-d6cb-8323274456ec"
      },
      "execution_count": null,
      "outputs": [
        {
          "output_type": "execute_result",
          "data": {
            "text/plain": [
              "array([[ 68.36730362],\n",
              "       [ 18.4078036 ],\n",
              "       [ -3.30762025],\n",
              "       [ 24.61724062],\n",
              "       [-74.73881776],\n",
              "       [-48.71452397],\n",
              "       [ -1.88300696]])"
            ]
          },
          "metadata": {},
          "execution_count": 9
        }
      ]
    },
    {
      "cell_type": "markdown",
      "source": [
        "### **Hypothesis function for linear regression:**"
      ],
      "metadata": {
        "id": "AT0Rqv7u7zcK"
      }
    },
    {
      "cell_type": "markdown",
      "source": [
        "A prediction is given by the expression :  \n",
        "$\\hat{y}_i = h_Θ(x^i) = ∑_{j=0}^{p} \\theta_{j} x^i_j $ \n",
        "\n",
        "\n",
        "$\\hat{Y} = θ · X$\n"
      ],
      "metadata": {
        "id": "r3m1Mluy8qVa"
      }
    },
    {
      "cell_type": "code",
      "source": [
        "def h(self,theta,x):\n",
        "  '''\n",
        "  input:\n",
        "    theta : (p+1,1) matrix\n",
        "    X : (n,p+1) matrix\n",
        "  output:\n",
        "    (n,1) matrix\n",
        "  '''\n",
        "  return np.dot(x,w)"
      ],
      "metadata": {
        "id": "TkjAwaHI9H2S"
      },
      "execution_count": null,
      "outputs": []
    },
    {
      "cell_type": "markdown",
      "source": [
        "### **Cost function (MSE) :**\n",
        "\n"
      ],
      "metadata": {
        "id": "PHhgLTLw9ifh"
      }
    },
    {
      "cell_type": "markdown",
      "source": [
        "* $J(Θ) = \\frac{1}{2m} \\sum_{i = 1}^{n} (y_{i}-\\hat{y}_{i})^2$ \n",
        "* $J(Θ) = \\frac{1}{2m} \\sum_{i = 1}^{n} (y_{i}-h_Θ(x_i))^2$\n",
        "* $J(Θ) = \\frac{1}{2m} \\sum_{i = 1}^{n} (y_{i}-Θ ⋅ X_i^{⊤})^2$\n",
        "\n"
      ],
      "metadata": {
        "id": "-DRywvylSkkU"
      }
    },
    {
      "cell_type": "code",
      "source": [
        "def cost_function(self,x,y,model):\n",
        "  '''\n",
        "  input:\n",
        "    yhat :(n,1) matrix\n",
        "    y : (n,1) matrix\n",
        "  output:\n",
        "    (n,1) matrix\n",
        "  '''\n",
        "  return 1/len(x) * np.sum(((y-model)**2))"
      ],
      "metadata": {
        "id": "irnKv1Mt9q4a"
      },
      "execution_count": null,
      "outputs": []
    },
    {
      "cell_type": "markdown",
      "source": [
        "### **Training a linear regression model :**"
      ],
      "metadata": {
        "id": "Q6MARKrSTGFb"
      }
    },
    {
      "cell_type": "markdown",
      "source": [
        "**repeat until convergence {**  \n",
        ">$\\theta^{n+1} ← θ^{n} - α \\nabla J(Θ)$  \n",
        ">}  \n",
        "\n",
        "**return** $θ$  \n",
        "With:  \n",
        "$∇J(Θ) = \\begin{bmatrix} \n",
        "\\frac{∂J}{∂θ_0}\\\\ \n",
        "\\frac{∂J}{∂θ_1}\\\\ \n",
        "...\\\\ \n",
        "\\frac{∂J}{∂θ_p} \n",
        "\\end{bmatrix}$"
      ],
      "metadata": {
        "id": "dMGwbZEaFtE7"
      }
    },
    {
      "cell_type": "markdown",
      "source": [
        "### **Derivative of the mean squared error :**\n",
        "With the chain rule : \n",
        "$\\frac{∂}{∂x}[f(g(x)] = f'[g(x)]g'(x) $  \n",
        "We can calculate all partial derivates.\n",
        "\n",
        "$\\nabla J(Θ) = \n",
        "\\begin{bmatrix} \n",
        "\\frac{∂J}{∂θ_0}\\\\ \n",
        "\\frac{∂J}{∂θ_1}\\\\ \n",
        "...\\\\ \n",
        "\\frac{∂J}{∂θ_p} \n",
        "\\end{bmatrix}\n",
        "= \n",
        "\\begin{bmatrix} \n",
        "\\frac{1}{n} \\sum_{i = 1}^{n} (y_{i}-\\hat{y}_i)x^{i}_{0}\\\\ \n",
        "\\frac{1}{n} \\sum_{i = 1}^{n} (y_{i}-\\hat{y}_i)x^{i}_{1}\\\\ \n",
        "⋯\\\\ \n",
        "\\frac{1}{n} \\sum_{i = 1}^{n} (y_{i}-\\hat{y}_i)x^{i}_{p}\n",
        "\\end{bmatrix}\n",
        "= \\frac{1}{n} \n",
        "\\begin{bmatrix} \n",
        "((y_1 - \\hat{y}_1)x^{1}_{0} + (y_2 - \\hat{y}_2)x^{2}_{0} + … + (y_n - \\hat{y}_n)x^{n}_{0})\\\\ \n",
        "((y_1 - \\hat{y}_1)x^{1}_{1} + (y_2 - \\hat{y}_2)x^{2}_{1} + … + (y_n - \\hat{y}_n)x^{n}_{1})\\\\ \n",
        "⋯\\\\ \n",
        "((y_1 - \\hat{y}_1)x^{1}_{p} + (y_2 - \\hat{y}_2)x^{2}_{p} + … + (y_n - \\hat{y}_n)x^{n}_{p})\n",
        "\\end{bmatrix}\n",
        "= \\frac{1}{n}X^{⊤} . (Y - \\hat{Y} ) \n",
        "$  \n",
        "\n",
        "$\\hat{Y} \\in \\mathbf{R}^{n}$  \n",
        "$Y \\in \\mathbf{R}^{n}$    \n",
        "$X^{⊤} \\in \\mathbf{R}^{p+1 \\times n}$\n",
        "\n",
        "$\\nabla J(Θ) ∈ \\mathbf{R}^{p+1} $ "
      ],
      "metadata": {
        "id": "Bq1XE_1BGhmS"
      }
    },
    {
      "cell_type": "code",
      "source": [
        "\n",
        "import numpy as np \n",
        "class CustomLinearRegression():\n",
        "    def __init__(self,lr, n_iterations):\n",
        "        self.lr = lr \n",
        "        self.n_iterations = n_iterations \n",
        "        \n",
        "    def model(self,w,x):\n",
        "        return np.dot(x,w)\n",
        "    \n",
        "    def cost_function(self,x,y,model):\n",
        "        return 1/len(x) * np.sum(((y-model)**2))\n",
        "    \n",
        "    def gradient(self,x,y,model):\n",
        "        return (1/len(y)) * x.T.dot(model - y) \n",
        "    \n",
        "    def fit(self, x, y):\n",
        "        m = len(x)\n",
        "        losses = []\n",
        "        w = np.random.randn(x.shape[1],1)\n",
        "        \n",
        "        for i in range(self.n_iterations):\n",
        "            model = self.model(w,x)\n",
        "            loss = self.cost_function(x,y,model)\n",
        "            losses.append(loss)\n",
        "            w = w - self.lr * self.gradient(x,y,model)\n",
        "        return (losses, w) \n",
        "            \n",
        "    def predict(self,w,x):\n",
        "        return self.model(w,x)"
      ],
      "metadata": {
        "id": "l5gQl1OfYS_K"
      },
      "execution_count": null,
      "outputs": []
    },
    {
      "cell_type": "code",
      "source": [
        "model = CustomLinearRegression(lr = 0.01, n_iterations = 500)\n",
        "losses, w = model.fit(x,y)"
      ],
      "metadata": {
        "id": "2jxETxRHiF58"
      },
      "execution_count": null,
      "outputs": []
    },
    {
      "cell_type": "code",
      "source": [
        "df = pd.DataFrame({'losses':losses})\n",
        "df.plot()"
      ],
      "metadata": {
        "colab": {
          "base_uri": "https://localhost:8080/",
          "height": 283
        },
        "id": "Rhz9fOXtjGeg",
        "outputId": "c0dba91d-76c8-4aaf-a98c-2a2460a15c34"
      },
      "execution_count": null,
      "outputs": [
        {
          "output_type": "execute_result",
          "data": {
            "text/plain": [
              "<matplotlib.axes._subplots.AxesSubplot at 0x7f0c8aa35290>"
            ]
          },
          "metadata": {},
          "execution_count": 9
        },
        {
          "output_type": "display_data",
          "data": {
            "text/plain": [
              "<Figure size 432x288 with 1 Axes>"
            ],
            "image/png": "[encoded data removed]"
          },
          "metadata": {
            "needs_background": "light"
          }
        }
      ]
    },
    {
      "cell_type": "markdown",
      "source": [
        "# **Classification**"
      ],
      "metadata": {
        "id": "DP-BCmXqjzjF"
      }
    },
    {
      "cell_type": "markdown",
      "source": [
        "## **Données**\n"
      ],
      "metadata": {
        "id": "qND4PZtCxiJ6"
      }
    },
    {
      "cell_type": "code",
      "source": [
        "x, y = make_blobs(n_samples=100, centers=2, n_features=2)\n",
        "plt.scatter(x[:,0],x[:,1], c = y)\n",
        "plt.show()"
      ],
      "metadata": {
        "colab": {
          "base_uri": "https://localhost:8080/",
          "height": 265
        },
        "id": "q-rG3ugUyA9h",
        "outputId": "08308923-5215-4a45-94c4-794f86fd67da"
      },
      "execution_count": null,
      "outputs": [
        {
          "output_type": "display_data",
          "data": {
            "text/plain": [
              "<Figure size 432x288 with 1 Axes>"
            ],
            "image/png": "[encoded data removed]"
          },
          "metadata": {
            "needs_background": "light"
          }
        }
      ]
    },
    {
      "cell_type": "markdown",
      "source": [
        "## **Régression logistique**\n",
        "\n"
      ],
      "metadata": {
        "id": "ujzbff8WlN20"
      }
    },
    {
      "cell_type": "markdown",
      "source": [
        "### **Hypothesis function** : \n",
        "\n",
        "$h_Θ(X_i)=g(Θ ̇X_i^⊤)$  \n",
        "With:  \n",
        "$g(z)= \\frac{1}{1+e^{-z}}$  \n",
        "We obtain:  \n",
        "$h_Θ(X_i)= \\frac{1}{1+e^{-Θ ̇X_i^⊤}}$  \n"
      ],
      "metadata": {
        "id": "taMfKIaus5N3"
      }
    },
    {
      "cell_type": "code",
      "source": [
        "def sigmoid(z):\n",
        "  # fonction h \n",
        "  return 1/(1 + np.exp(-z))  \n",
        "\n",
        "def derivative_sigmoid(z):\n",
        "  # fonction h \n",
        "  return 1/(1 + np.exp(-z))  \n",
        "\n",
        "def z(x,theta):\n",
        "  return np.dot(x,theta)"
      ],
      "metadata": {
        "id": "bjj4wis6wubB"
      },
      "execution_count": null,
      "outputs": []
    },
    {
      "cell_type": "markdown",
      "source": [
        "### **Cost function ( Binary cross entropy loss / Log loss)** : \n",
        "$J(\\theta) = -\\frac{1}{m}  \\sum_{i=1}^{m} y^{(i)}log(h_Θ(x^{(i)})) + (1 - y^{(i)})log(1-h_Θ(x^{(i)})))$"
      ],
      "metadata": {
        "id": "wWZYQyz5suf1"
      }
    },
    {
      "cell_type": "code",
      "source": [
        "def binary_cross_entropy_loss(x, y,theta):\n",
        "  m = len(x)\n",
        "  probabilities = sigmoid(z(x,theta))\n",
        "  return 1/m * np.sum(-y * np.log(probabilities) - \n",
        "                      (1 - y) * \n",
        "                      np.log(1-probabilities))"
      ],
      "metadata": {
        "id": "kBsVKvDwwD8z"
      },
      "execution_count": null,
      "outputs": []
    },
    {
      "cell_type": "markdown",
      "source": [
        "### **Derivative of the binary cross entropy loss**\n",
        "\n",
        "$\\frac{∂J}{∂θ _i} = \\frac{∂J}{∂g} \\frac{∂g}{∂z} \\frac{∂z}{∂\\theta _i} $\n"
      ],
      "metadata": {
        "id": "dMyur2_cBRV_"
      }
    },
    {
      "cell_type": "markdown",
      "source": [
        "#### $\\frac{∂J}{∂g}$\n",
        "\n",
        "\n",
        "---\n",
        "\n",
        "\n",
        "$\\frac{∂J}{∂g} = (\\frac{∂}{∂g} y log(g)) - (\\frac{∂}{∂g}(1-y)log(g))$\n",
        "$\\frac{∂J}{∂g} = \\frac{y}{g} - ((1-y)(-\\frac{1}{1-g}))$  \n",
        "$\\frac{∂J}{∂g} = \\frac{y}{g} - (-\\frac{1-y}{1-g})$  \n",
        "$\\frac{∂J}{∂g} = \\frac{y}{g} + \\frac{1-y}{1-g}$  \n",
        "$\\frac{∂J}{∂g} = \\frac{y-yg-g-gy}{g-g^2}$  \n",
        "$\\frac{∂J}{∂g} = \\frac{y-g}{g-g^2}$"
      ],
      "metadata": {
        "id": "MnxhbJEnB_8Y"
      }
    },
    {
      "cell_type": "markdown",
      "source": [
        "#### $\\frac{∂g}{∂z}$\n",
        "\n",
        "\n",
        "---\n",
        "\n",
        "\n",
        "$\\frac{∂g}{∂z}= \\frac{∂}{∂z} \\frac{1}{1+e^-z}$  \n",
        "$\\frac{∂g}{∂z}= 1 - \\frac{1}{1+e^{-z}}$\n",
        "\n"
      ],
      "metadata": {
        "id": "0WVWL5h_SHJF"
      }
    },
    {
      "cell_type": "markdown",
      "source": [
        "#### **$\\frac{∂z}{∂\\theta _i}$**\n",
        "\n",
        "\n",
        "---\n",
        "$\\frac{∂z}{∂\\theta _i} = \\frac{∂}{∂\\theta _i}$\n"
      ],
      "metadata": {
        "id": "v5_Ta7rqUW_s"
      }
    },
    {
      "cell_type": "markdown",
      "source": [
        "### **Sigmoid properties** : "
      ],
      "metadata": {
        "id": "AMqlxSEt7adD"
      }
    },
    {
      "cell_type": "code",
      "source": [
        "x_space = np.linspace(-5,5,100)\n",
        "plt.plot(x_space,sigmoid(x_space))\n",
        "plt.title('Sigmoid(x)')\n",
        "plt.show()"
      ],
      "metadata": {
        "colab": {
          "base_uri": "https://localhost:8080/",
          "height": 281
        },
        "id": "-7hP70YB7Bbc",
        "outputId": "051920be-cdaa-4647-9342-d5a040ff3160"
      },
      "execution_count": null,
      "outputs": [
        {
          "output_type": "display_data",
          "data": {
            "text/plain": [
              "<Figure size 432x288 with 1 Axes>"
            ],
            "image/png": "[encoded data removed]"
          },
          "metadata": {
            "needs_background": "light"
          }
        }
      ]
    },
    {
      "cell_type": "markdown",
      "source": [
        "### **Training a logistric regression model:**\n",
        " \n",
        " The goal of the training step of the logistic regression is to find some  $ϴ$ parameters that minimize the binary cross entropy loss.   \n",
        "To minimize this cost function we are gonna use gradient descent algorithm \n",
        "\n",
        "\n",
        "---\n",
        "**stochastic gradient descent :**   \n",
        "\n",
        "\n",
        "---\n",
        "\n",
        "\n",
        "$x$ : data    \n",
        "$y$ : ground truth value   \n",
        "$\\theta$ : parameters  \n",
        "$\\alpha$ : learning rate  \n",
        "  \n",
        "**repeat until convergence {**  \n",
        ">$\\theta ← θ - α \\frac{∂J}{∂θ} $  \n",
        ">}  \n",
        "\n",
        "**return** $θ$"
      ],
      "metadata": {
        "id": "uNZpo6oduC6_"
      }
    },
    {
      "cell_type": "code",
      "source": [
        "class CustomLogisticRegression():\n",
        "  '''\n",
        "  lr : learning rate (alpha)\n",
        "  n_iterations : number of iterations\n",
        "  '''\n",
        "\n",
        "  def __init__(self,lr,n_iterations):\n",
        "    self.lr = lr \n",
        "    self.n_iterations = n_iterations \n",
        "    \n",
        "  def fit(self, x, y):\n",
        "    '''\n",
        "    training\n",
        "    '''\n",
        "    m = len(x)\n",
        "    x = np.hstack((x,np.ones(m).reshape(m,1)))\n",
        "    theta = np.random.randn(x.shape[1],1)\n",
        "    losses = []\n",
        "\n",
        "    for _ in range(self.n_iterations):\n",
        "      theta = theta - self.lr * gradient(...)\n",
        "\n",
        "    # print(len(theta),len(x))\n",
        "    return (losses, theta) \n",
        "  \n",
        "  def predict(self, x):\n",
        "    pass "
      ],
      "metadata": {
        "id": "rEhDt2z7uc_d"
      },
      "execution_count": null,
      "outputs": []
    },
    {
      "cell_type": "code",
      "source": [
        "model = CustomLogisticRegression(lr = 0.1,n_iterations = 100 )\n",
        "losses, theta = model.fit(x,y)"
      ],
      "metadata": {
        "colab": {
          "base_uri": "https://localhost:8080/"
        },
        "id": "I4vyw0geMt2R",
        "outputId": "ddce6496-809d-46d1-dc56-e33d8883ac39"
      },
      "execution_count": null,
      "outputs": [
        {
          "output_type": "stream",
          "name": "stdout",
          "text": [
            "3 100\n"
          ]
        }
      ]
    },
    {
      "cell_type": "code",
      "source": [],
      "metadata": {
        "id": "zcLpkuHNsfj8"
      },
      "execution_count": null,
      "outputs": []
    },
    {
      "cell_type": "markdown",
      "source": [
        "## **Perceptron**"
      ],
      "metadata": {
        "id": "dIM99bhTlkUE"
      }
    },
    {
      "cell_type": "code",
      "source": [
        "5*5"
      ],
      "metadata": {
        "id": "2V3_urMIORnd",
        "colab": {
          "base_uri": "https://localhost:8080/"
        },
        "outputId": "7daee3ca-5e91-41d2-f31c-53d4ccf3accf"
      },
      "execution_count": null,
      "outputs": [
        {
          "output_type": "execute_result",
          "data": {
            "text/plain": [
              "25"
            ]
          },
          "metadata": {},
          "execution_count": 1
        }
      ]
    }
  ]
}